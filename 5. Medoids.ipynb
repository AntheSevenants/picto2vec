{
 "cells": [
  {
   "cell_type": "markdown",
   "id": "53f85042-b2f2-4c22-88a5-6b710244519f",
   "metadata": {},
   "source": [
    "# 5. Medoids\n",
    "\n",
    "We create medoids from all representation vectors."
   ]
  },
  {
   "cell_type": "markdown",
   "id": "724b1c39-78ad-49f4-94cf-6ba85f3b06e0",
   "metadata": {},
   "source": [
    "## Imports"
   ]
  },
  {
   "cell_type": "code",
   "execution_count": 5,
   "id": "2e813e62-143c-4688-81ab-690620306a0d",
   "metadata": {},
   "outputs": [],
   "source": [
    "from glob import glob\n",
    "from tqdm.auto import tqdm\n",
    "import json\n",
    "import numpy as np\n",
    "import os\n",
    "\n",
    "from pathlib import Path\n",
    "\n",
    "from picto2vec.sense import Sense\n",
    "\n",
    "from sklearn.metrics import pairwise_distances\n",
    "from sklearn_extra.cluster import KMedoids"
   ]
  },
  {
   "cell_type": "code",
   "execution_count": 3,
   "id": "9c0fdfaa-612d-4615-b4bb-d9c671180545",
   "metadata": {},
   "outputs": [],
   "source": [
    "from constants import *"
   ]
  },
  {
   "cell_type": "markdown",
   "id": "5d27ffa2-cee1-4cba-b5a2-338bb5fee9e3",
   "metadata": {},
   "source": [
    "## Amassing representations"
   ]
  },
  {
   "cell_type": "code",
   "execution_count": 4,
   "id": "efbc548f-ce5d-4551-8ac8-a47255280daf",
   "metadata": {},
   "outputs": [],
   "source": [
    "sense_files = glob(f\"{SENSE_EX_VEC}/*\")"
   ]
  },
  {
   "cell_type": "code",
   "execution_count": 76,
   "id": "75e88640-3a89-47c4-8ce3-382ff671bb4c",
   "metadata": {},
   "outputs": [],
   "source": [
    "def create_output_filenames(medoid_count, layer_index, sense_file_stem):\n",
    "    layer_path = f\"{VECTORS}/medoid_{medoid_count}/layer_{layer_index}/\"\n",
    "    json_path = f\"{layer_path}{sense.name}.json\"\n",
    "    \n",
    "    return layer_path, json_path"
   ]
  },
  {
   "cell_type": "markdown",
   "id": "5cea2cac-3c58-42b5-bd17-f8a1bd94f64b",
   "metadata": {},
   "source": [
    "We go over each sense file, and for each medoid count, we compute the required number of medoids. Then, we write the representations of our medoids to another file. The structure will be as follows:\n",
    "* vector directory root\n",
    "    * medoid_3\n",
    "        * layer_0\n",
    "            * sense1.json\n",
    "            * sense2.json\n",
    "            * ...\n",
    "        * ...\n",
    "        * layer_12\n",
    "    * medoid_5\n",
    "    * medoid_7\n",
    "    * medoid_10\n",
    "    \n",
    "Each JSON file holds all medoid representations as a simple list."
   ]
  },
  {
   "cell_type": "code",
   "execution_count": null,
   "id": "10dad771-83f0-49c0-98cd-89e716087f75",
   "metadata": {},
   "outputs": [],
   "source": [
    "for sense_file in tqdm(sense_files):\n",
    "    try:\n",
    "        with open(sense_file, \"rt\") as reader:\n",
    "            raw = reader.read()\n",
    "            if len(raw) == 0:\n",
    "                continue\n",
    "            \n",
    "            data = json.loads(raw)\n",
    "    except:\n",
    "        print(sense_file)\n",
    "        break\n",
    "    \n",
    "    sense = Sense(Path(sense_file).stem, data)\n",
    "    \n",
    "    if sense.total_representation_count() <= 30:\n",
    "        continue\n",
    "    \n",
    "    for medoid_count in [3, 5, 7, 10]:\n",
    "        if os.path.exists(create_output_filenames(medoid_count, 0, sense.name)[1]):\n",
    "            continue\n",
    "\n",
    "        for layer_index in list(range(0, 13)):\n",
    "            layer_path, json_path = create_output_filenames(medoid_count, layer_index, sense.name)\n",
    "        \n",
    "            representations = sense.get_representations(layer_index)\n",
    "            medoid_indices = sense.get_medoid_indices(representations, medoid_count)\n",
    "    \n",
    "            centroid_representations = []\n",
    "    \n",
    "            for medoid_index in medoid_indices:\n",
    "                centroid_representations.append(list(representations[medoid_index]))\n",
    "\n",
    "            if not os.path.exists(layer_path):\n",
    "                os.makedirs(layer_path)\n",
    "            \n",
    "            with open(json_path, \"wt\") as writer:\n",
    "                writer.write(json.dumps(centroid_representations))"
   ]
  },
  {
   "cell_type": "code",
   "execution_count": 4,
   "id": "9117f7b1-50a8-4634-a8f4-835f67cf1559",
   "metadata": {},
   "outputs": [
    {
     "data": {
      "text/plain": [
       "1824"
      ]
     },
     "execution_count": 4,
     "metadata": {},
     "output_type": "execute_result"
    }
   ],
   "source": [
    "len(sense_files)"
   ]
  }
 ],
 "metadata": {
  "kernelspec": {
   "display_name": "Python 3",
   "language": "python",
   "name": "python3"
  },
  "language_info": {
   "codemirror_mode": {
    "name": "ipython",
    "version": 3
   },
   "file_extension": ".py",
   "mimetype": "text/x-python",
   "name": "python",
   "nbconvert_exporter": "python",
   "pygments_lexer": "ipython3",
   "version": "3.6.9"
  }
 },
 "nbformat": 4,
 "nbformat_minor": 5
}
